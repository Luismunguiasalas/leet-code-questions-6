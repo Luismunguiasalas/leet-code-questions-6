{
 "metadata": {
  "language_info": {
   "codemirror_mode": {
    "name": "ipython",
    "version": 3
   },
   "file_extension": ".py",
   "mimetype": "text/x-python",
   "name": "python",
   "nbconvert_exporter": "python",
   "pygments_lexer": "ipython3",
   "version": "3.8.5-final"
  },
  "orig_nbformat": 2,
  "kernelspec": {
   "name": "python3",
   "display_name": "Python 3",
   "language": "python"
  }
 },
 "nbformat": 4,
 "nbformat_minor": 2,
 "cells": [
  {
   "cell_type": "code",
   "execution_count": 31,
   "metadata": {},
   "outputs": [
    {
     "output_type": "execute_result",
     "data": {
      "text/plain": [
       "'y'"
      ]
     },
     "metadata": {},
     "execution_count": 31
    }
   ],
   "source": [
    "# 1309. Decrypt String from Alphabet to Integer Mapping\n",
    "# Given a string s formed by digits ('0' - '9') and '#' . We want to map s to English lowercase characters as follows:\n",
    "\n",
    "# Characters ('a' to 'i') are represented by ('1' to '9') respectively.\n",
    "# Characters ('j' to 'z') are represented by ('10#' to '26#') respectively. \n",
    "# Return the string formed after mapping.\n",
    "\n",
    "# It's guaranteed that a unique mapping will always exist.\n",
    "def freqAlphabets(string):\n",
    "    alphabet = {1: 'a', 2: 'b', 3: 'c', 4: 'd', 5: 'e', 6: 'f', 7: 'g', 8: 'h', 9: 'i', 10: 'j', 11: 'k', 12: 'l', 13: 'm',14: 'n', 15: 'o', 16: 'p', 17: 'q', 18: 'r', 19: 's', 20: 't', 21: 'u', 22: 'v', 23: 'w', 24: 'x', 25: 'y',26: 'z'}\n",
    "    counter = 3\n",
    "    temp = ''\n",
    "    tempstring = ''\n",
    "    for ltr in string[::-1]:\n",
    "        if ltr != '#' and counter == 3:\n",
    "            temp += alphabet[int(ltr)]\n",
    "        else:\n",
    "            tempstring += ltr\n",
    "            counter -= 1\n",
    "        if counter == 0:\n",
    "            temp += alphabet[int(tempstring[:0:-1])]\n",
    "            tempstring = ''\n",
    "            counter = 3\n",
    "    return temp[::-1]\n",
    "\n",
    "# s = \"10#11#12\"\n",
    "# s = \"1326#\"\n",
    "s = \"25#\"\n",
    "freqAlphabets(s)"
   ]
  },
  {
   "cell_type": "code",
   "execution_count": 27,
   "metadata": {},
   "outputs": [
    {
     "output_type": "stream",
     "name": "stdout",
     "text": [
      "10\n"
     ]
    }
   ],
   "source": [
    "# 1436. Destination City\n",
    "# You are given the array paths, where paths[i] = [cityAi, cityBi] means there exists a direct path going from cityAi to cityBi. Return the destination city, that is, the city without any path outgoing to another city.\n",
    "\n",
    "# It is guaranteed that the graph of paths forms a line without any loop, therefore, there will be exactly one destination city.\n",
    "\n",
    "def destCity(self, paths: List[List[str]]) -> str:\n",
    "        l,r = [],[]\n",
    "        for a,b in paths:\n",
    "            l.append(a)\n",
    "            r.append(b)\n",
    "        r = set(r) - set(l)\n",
    "        return list(r)[0]"
   ]
  },
  {
   "cell_type": "code",
   "execution_count": null,
   "metadata": {},
   "outputs": [],
   "source": []
  }
 ]
}