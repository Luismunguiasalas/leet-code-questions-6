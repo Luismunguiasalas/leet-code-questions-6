{
 "metadata": {
  "language_info": {
   "codemirror_mode": {
    "name": "ipython",
    "version": 3
   },
   "file_extension": ".py",
   "mimetype": "text/x-python",
   "name": "python",
   "nbconvert_exporter": "python",
   "pygments_lexer": "ipython3",
   "version": "3.8.5-final"
  },
  "orig_nbformat": 2,
  "kernelspec": {
   "name": "python3",
   "display_name": "Python 3",
   "language": "python"
  }
 },
 "nbformat": 4,
 "nbformat_minor": 2,
 "cells": [
  {
   "cell_type": "code",
   "execution_count": null,
   "metadata": {},
   "outputs": [],
   "source": [
    "# 1309. Decrypt String from Alphabet to Integer Mapping\n",
    "# Given a string s formed by digits ('0' - '9') and '#' . We want to map s to English lowercase characters as follows:\n",
    "\n",
    "# Characters ('a' to 'i') are represented by ('1' to '9') respectively.\n",
    "# Characters ('j' to 'z') are represented by ('10#' to '26#') respectively. \n",
    "# Return the string formed after mapping.\n",
    "\n",
    "# It's guaranteed that a unique mapping will always exist.\n",
    "def freqAlphabets(string):\n",
    "    alphabet = {1: 'a', 2: 'b', 3: 'c', 4: 'd', 5: 'e', 6: 'f', 7: 'g', 8: 'h', 9: 'i', 10: 'j', 11: 'k', 12: 'l', 13: 'm',14: 'n', 15: 'o', 16: 'p', 17: 'q', 18: 'r', 19: 's', 20: 't', 21: 'u', 22: 'v', 23: 'w', 24: 'x', 25: 'y',26: 'z'}\n",
    "    counter = 3\n",
    "    temp = ''\n",
    "    tempstring = ''\n",
    "    for ltr in string[::-1]:\n",
    "        if ltr != '#' and counter == 3:\n",
    "            temp += alphabet[int(ltr)]\n",
    "        else:\n",
    "            tempstring += ltr\n",
    "            counter -= 1\n",
    "        if counter == 0:\n",
    "            temp += alphabet[int(tempstring[:0:-1])]\n",
    "            tempstring = ''\n",
    "            counter = 3\n",
    "    return temp[::-1]\n",
    "\n",
    "# s = \"10#11#12\"\n",
    "# s = \"1326#\"\n",
    "s = \"25#\"\n",
    "freqAlphabets(s)"
   ]
  },
  {
   "cell_type": "code",
   "execution_count": null,
   "metadata": {},
   "outputs": [],
   "source": [
    "# 1436. Destination City\n",
    "# You are given the array paths, where paths[i] = [cityAi, cityBi] means there exists a direct path going from cityAi to cityBi. Return the destination city, that is, the city without any path outgoing to another city.\n",
    "\n",
    "# It is guaranteed that the graph of paths forms a line without any loop, therefore, there will be exactly one destination city.\n",
    "\n",
    "def destCity(self, paths: List[List[str]]) -> str:\n",
    "        l,r = [],[]\n",
    "        for a,b in paths:\n",
    "            l.append(a)\n",
    "            r.append(b)\n",
    "        r = set(r) - set(l)\n",
    "        return list(r)[0]"
   ]
  },
  {
   "cell_type": "code",
   "execution_count": null,
   "metadata": {},
   "outputs": [],
   "source": [
    "# 1450. Number of Students Doing Homework at a Given Time\n",
    "# Given two integer arrays startTime and endTime and given an integer queryTime.\n",
    "# The ith student started doing their homework at the time startTime[i] and finished it at time endTime[i].\n",
    "# Return the number of students doing their homework at time queryTime. More formally, return the number of students where queryTime lays in the interval [startTime[i], endTime[i]] inclusive.\n",
    "\n",
    "def busyStudents(startTime,endTime,queryTime):\n",
    "    cnt = 0\n",
    "    for st, et in zip(startTime,endTime):\n",
    "        if st<= queryTime <= et:\n",
    "            cnt += 1\n",
    "    return cnt\n",
    "st = [9,8,7,6,5,4,3,2,1]\n",
    "et = [10,10,10,10,10,10,10,10,10]\n",
    "qt = 5\n",
    "busyStudents(st,et,qt)"
   ]
  },
  {
   "cell_type": "code",
   "execution_count": null,
   "metadata": {},
   "outputs": [],
   "source": [
    "# 1464. Maximum Product of Two Elements in an Array\n",
    "# Given the array of integers nums, you will choose two different indices i and j of that array. Return the maximum value of (nums[i]-1)*(nums[j]-1).\n",
    "def maxProduct(nums):\n",
    "    one = 0\n",
    "    two = 0\n",
    "    for three in nums:\n",
    "        if three > two:\n",
    "            two = three\n",
    "        if two > one:\n",
    "            one, two = two, one\n",
    "    return one, two\n",
    "\n",
    "nums = [21,3,4,5,15,2,1,7,10]\n",
    "maxProduct(nums)"
   ]
  },
  {
   "cell_type": "code",
   "execution_count": null,
   "metadata": {},
   "outputs": [],
   "source": [
    "# 1304. Find N Unique Integers Sum up to Zero\n",
    "# Given an integer n, return any array containing n unique integers such that they add up to 0.\n",
    "class Solution:\n",
    "    def sumZero(self, n: int) -> List[int]:\n",
    "        if n > 1:\n",
    "            result = []\n",
    "            random_number = 1\n",
    "            while len(result) < n-1:\n",
    "                result.append(random_number)\n",
    "                opposite_number = random_number * (- 1)\n",
    "                result.append(opposite_number)\n",
    "                random_number += 1\n",
    "            if len(result) != n:\n",
    "                result.append(0)\n",
    "            return result            \n",
    "        return [0]\n",
    "sumZero(5)"
   ]
  },
  {
   "cell_type": "code",
   "execution_count": null,
   "metadata": {
    "tags": []
   },
   "outputs": [],
   "source": [
    "1370. Increasing Decreasing String\n",
    "from itertools import zip_longest\n",
    "def sortString(string):\n",
    "    arr, temp = [], []\n",
    "    result,reversed = \"\", False\n",
    "    string = sorted(string)\n",
    "    for i, ltr in enumerate(string):\n",
    "        if temp == []: temp.append(ltr)\n",
    "        elif ltr == temp[-1]:temp.append(ltr)\n",
    "        else: \n",
    "            arr.append(temp)\n",
    "            temp = [ltr]\n",
    "        if i == (len(string)-1): arr.append(temp)\n",
    "\n",
    "    for items in zip_longest(*arr, fillvalue=\"\"):\n",
    "        if not reversed: result += \"\".join(items)\n",
    "        else: result += \"\".join(items[::-1])\n",
    "        reversed =  not False\n",
    "    print(result)\n",
    "\n",
    "        \n",
    "            \n",
    "\n",
    "\n",
    "# Input: s = \"leetcode\"\n",
    "# Output:    \"cdelotee\"\n",
    "s = \"aaaabbbbcccc\"\n",
    "# s = \"leetcode\"\n",
    "# s = 'ggggggggg'\n",
    "# s = \"spo\"\n",
    "# s = \"poiqwerajbfasdfkjhooiuoiu\"\n",
    "sortString(s)"
   ]
  },
  {
   "cell_type": "code",
   "execution_count": 33,
   "metadata": {},
   "outputs": [
    {
     "output_type": "stream",
     "name": "stdout",
     "text": [
      "['aaaa', 'bbbb', 'cccc']\n"
     ]
    },
    {
     "output_type": "execute_result",
     "data": {
      "text/plain": [
       "'abccbaabccba'"
      ]
     },
     "metadata": {},
     "execution_count": 33
    }
   ],
   "source": [
    "1370. Increasing Decreasing String\n",
    "\n",
    "import re\n",
    "from itertools import zip_longest\n",
    "def sortString(string):\n",
    "    r = \"\"\n",
    "    a = \"\"\n",
    "    reversed = False\n",
    "    for i in range(len(s)):\n",
    "        if r == \"\": r += s[i]\n",
    "        elif s[i] != r[-1]: r += \"-\" + s[i]\n",
    "        else: r += s[i]\n",
    "    r = re.split(\"-\",r)\n",
    "    for items in zip_longest(*r,fillvalue=\"\"):\n",
    "        if not reversed: a += \"\".join(items)\n",
    "        else: a += \"\".join(items[::-1])\n",
    "        reversed = not reversed\n",
    "    return a\n",
    "\n",
    "\n",
    "s = \"aaaabbbbcccc\"\n",
    "# s = \"leetcode\"\n",
    "sortString(s)"
   ]
  },
  {
   "cell_type": "code",
   "execution_count": null,
   "metadata": {},
   "outputs": [],
   "source": []
  }
 ]
}